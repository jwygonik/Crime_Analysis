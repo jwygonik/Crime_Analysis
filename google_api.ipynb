{
 "cells": [
  {
   "cell_type": "code",
   "execution_count": 31,
   "id": "be3de807-9c28-4bab-9214-93710fbd1d1a",
   "metadata": {},
   "outputs": [],
   "source": [
    "import requests\n",
    "import pandas as pd\n",
    "import time"
   ]
  },
  {
   "cell_type": "code",
   "execution_count": 34,
   "id": "aa46fdd2-5036-43fd-9430-084f1d92f4f7",
   "metadata": {},
   "outputs": [
    {
     "data": {
      "text/plain": [
       "6.944444444444445"
      ]
     },
     "execution_count": 34,
     "metadata": {},
     "output_type": "execute_result"
    }
   ],
   "source": [
    "50000*.5/60/60"
   ]
  },
  {
   "cell_type": "code",
   "execution_count": 20,
   "id": "ebcad9c7-df00-4b6f-a977-b050e34e9569",
   "metadata": {},
   "outputs": [
    {
     "data": {
      "text/html": [
       "<div>\n",
       "<style scoped>\n",
       "    .dataframe tbody tr th:only-of-type {\n",
       "        vertical-align: middle;\n",
       "    }\n",
       "\n",
       "    .dataframe tbody tr th {\n",
       "        vertical-align: top;\n",
       "    }\n",
       "\n",
       "    .dataframe thead th {\n",
       "        text-align: right;\n",
       "    }\n",
       "</style>\n",
       "<table border=\"1\" class=\"dataframe\">\n",
       "  <thead>\n",
       "    <tr style=\"text-align: right;\">\n",
       "      <th></th>\n",
       "      <th>Arrest Date</th>\n",
       "      <th>Area Name</th>\n",
       "      <th>Age</th>\n",
       "      <th>Sex Code</th>\n",
       "      <th>Descent Code</th>\n",
       "      <th>Charge Group Description</th>\n",
       "      <th>Charge Description</th>\n",
       "      <th>Disposition Description</th>\n",
       "      <th>LAT</th>\n",
       "      <th>LON</th>\n",
       "      <th>Location</th>\n",
       "      <th>Booking Location</th>\n",
       "      <th>Zip_Codes</th>\n",
       "    </tr>\n",
       "  </thead>\n",
       "  <tbody>\n",
       "    <tr>\n",
       "      <th>0</th>\n",
       "      <td>2020-05-10</td>\n",
       "      <td>77th Street</td>\n",
       "      <td>22</td>\n",
       "      <td>M</td>\n",
       "      <td>B</td>\n",
       "      <td>Weapon (carry/poss)</td>\n",
       "      <td>CARRY LOADED F/ARM PRSON/HEH PUBLIC PLACE</td>\n",
       "      <td>DISTRICT ATTORNEY REJECT</td>\n",
       "      <td>33.9674</td>\n",
       "      <td>-118.2652</td>\n",
       "      <td>POINT (-118.2652 33.9674)</td>\n",
       "      <td>77TH ST</td>\n",
       "      <td>90003</td>\n",
       "    </tr>\n",
       "    <tr>\n",
       "      <th>1</th>\n",
       "      <td>2020-05-29</td>\n",
       "      <td>Pacific</td>\n",
       "      <td>30</td>\n",
       "      <td>M</td>\n",
       "      <td>B</td>\n",
       "      <td>Narcotic Drug Laws</td>\n",
       "      <td>MAINTAIN PLACE TO SELL CONTROLLED SUBS</td>\n",
       "      <td>CITY ATTORNEY REJECT</td>\n",
       "      <td>34.0249</td>\n",
       "      <td>-118.3960</td>\n",
       "      <td>POINT (-118.396 34.0249)</td>\n",
       "      <td>PACIFIC</td>\n",
       "      <td>90066</td>\n",
       "    </tr>\n",
       "    <tr>\n",
       "      <th>2</th>\n",
       "      <td>2020-07-28</td>\n",
       "      <td>77th Street</td>\n",
       "      <td>29</td>\n",
       "      <td>M</td>\n",
       "      <td>H</td>\n",
       "      <td>Vehicle Theft</td>\n",
       "      <td>GRAND THEFT AUTO/HORSE/ETC</td>\n",
       "      <td>DISTRICT ATTORNEY REJECT</td>\n",
       "      <td>33.9892</td>\n",
       "      <td>-118.2827</td>\n",
       "      <td>POINT (-118.2827 33.9892)</td>\n",
       "      <td>77TH ST</td>\n",
       "      <td>90003</td>\n",
       "    </tr>\n",
       "    <tr>\n",
       "      <th>3</th>\n",
       "      <td>2020-11-25</td>\n",
       "      <td>77th Street</td>\n",
       "      <td>40</td>\n",
       "      <td>M</td>\n",
       "      <td>B</td>\n",
       "      <td>Weapon (carry/poss)</td>\n",
       "      <td>POSS F/ARM BY CONVICTED FELON/ADDICT/ETC</td>\n",
       "      <td>849(B)(1) PC/TECHNICAL ARREST</td>\n",
       "      <td>33.9764</td>\n",
       "      <td>-118.2892</td>\n",
       "      <td>POINT (-118.2892 33.9764)</td>\n",
       "      <td>77TH ST</td>\n",
       "      <td>90003</td>\n",
       "    </tr>\n",
       "    <tr>\n",
       "      <th>4</th>\n",
       "      <td>2020-04-04</td>\n",
       "      <td>77th Street</td>\n",
       "      <td>30</td>\n",
       "      <td>M</td>\n",
       "      <td>H</td>\n",
       "      <td>Burglary</td>\n",
       "      <td>BURGLARY</td>\n",
       "      <td>FELONY COMPLAINT FILED</td>\n",
       "      <td>33.9611</td>\n",
       "      <td>-118.2917</td>\n",
       "      <td>POINT (-118.2917 33.9611)</td>\n",
       "      <td>77TH ST</td>\n",
       "      <td>90003</td>\n",
       "    </tr>\n",
       "  </tbody>\n",
       "</table>\n",
       "</div>"
      ],
      "text/plain": [
       "  Arrest Date    Area Name  Age Sex Code Descent Code  \\\n",
       "0  2020-05-10  77th Street   22        M            B   \n",
       "1  2020-05-29      Pacific   30        M            B   \n",
       "2  2020-07-28  77th Street   29        M            H   \n",
       "3  2020-11-25  77th Street   40        M            B   \n",
       "4  2020-04-04  77th Street   30        M            H   \n",
       "\n",
       "  Charge Group Description                         Charge Description  \\\n",
       "0      Weapon (carry/poss)  CARRY LOADED F/ARM PRSON/HEH PUBLIC PLACE   \n",
       "1       Narcotic Drug Laws     MAINTAIN PLACE TO SELL CONTROLLED SUBS   \n",
       "2            Vehicle Theft                 GRAND THEFT AUTO/HORSE/ETC   \n",
       "3      Weapon (carry/poss)   POSS F/ARM BY CONVICTED FELON/ADDICT/ETC   \n",
       "4                 Burglary                                   BURGLARY   \n",
       "\n",
       "         Disposition Description      LAT       LON  \\\n",
       "0       DISTRICT ATTORNEY REJECT  33.9674 -118.2652   \n",
       "1           CITY ATTORNEY REJECT  34.0249 -118.3960   \n",
       "2       DISTRICT ATTORNEY REJECT  33.9892 -118.2827   \n",
       "3  849(B)(1) PC/TECHNICAL ARREST  33.9764 -118.2892   \n",
       "4         FELONY COMPLAINT FILED  33.9611 -118.2917   \n",
       "\n",
       "                    Location Booking Location  Zip_Codes  \n",
       "0  POINT (-118.2652 33.9674)          77TH ST      90003  \n",
       "1   POINT (-118.396 34.0249)          PACIFIC      90066  \n",
       "2  POINT (-118.2827 33.9892)          77TH ST      90003  \n",
       "3  POINT (-118.2892 33.9764)          77TH ST      90003  \n",
       "4  POINT (-118.2917 33.9611)          77TH ST      90003  "
      ]
     },
     "execution_count": 20,
     "metadata": {},
     "output_type": "execute_result"
    }
   ],
   "source": [
    "arrests_df=pd.read_csv('la_arrests_2020_w_zip.csv')\n",
    "arrests_df.head()"
   ]
  },
  {
   "cell_type": "code",
   "execution_count": 9,
   "id": "af3324fc-badd-4658-86f5-b815c251e949",
   "metadata": {},
   "outputs": [],
   "source": [
    "gkey=''\n",
    "url='https://maps.googleapis.com/maps/api/geocode/json'"
   ]
  },
  {
   "cell_type": "code",
   "execution_count": 26,
   "id": "40f2c12d-cc47-4907-b11e-f5847c3a548e",
   "metadata": {},
   "outputs": [
    {
     "ename": "TypeError",
     "evalue": "tuple indices must be integers or slices, not str",
     "output_type": "error",
     "traceback": [
      "\u001b[0;31m---------------------------------------------------------------------------\u001b[0m",
      "\u001b[0;31mTypeError\u001b[0m                                 Traceback (most recent call last)",
      "\u001b[0;32m/var/folders/xs/m49tphjd6sd27k1z93090jv00000gn/T/ipykernel_50155/3603343932.py\u001b[0m in \u001b[0;36m<module>\u001b[0;34m\u001b[0m\n\u001b[0;32m----> 1\u001b[0;31m \u001b[0meach_row\u001b[0m\u001b[0;34m[\u001b[0m\u001b[0;34m'LAT'\u001b[0m\u001b[0;34m]\u001b[0m\u001b[0;34m\u001b[0m\u001b[0;34m\u001b[0m\u001b[0m\n\u001b[0m",
      "\u001b[0;31mTypeError\u001b[0m: tuple indices must be integers or slices, not str"
     ]
    }
   ],
   "source": [
    "each_row['LAT']"
   ]
  },
  {
   "cell_type": "code",
   "execution_count": 36,
   "id": "b24f340a-33c1-493f-9c6b-ead2203427cf",
   "metadata": {},
   "outputs": [
    {
     "name": "stdout",
     "output_type": "stream",
     "text": [
      "33.9674,-118.2652\n",
      "34.0249,-118.396\n",
      "33.9892,-118.2827\n",
      "33.9764,-118.2892\n",
      "33.9611,-118.2917\n",
      "34.0328,-118.323\n",
      "34.0604,-118.2142\n",
      "34.1509,-118.4487\n",
      "34.0171,-118.3531\n",
      "34.0121,-118.2915\n"
     ]
    }
   ],
   "source": [
    "zip_code_list=[]\n",
    "for idx, each_row in arrests_df.iterrows(): \n",
    "    latlng=str(each_row['LAT'])+','+str(each_row['LON'])\n",
    "    print(latlng)\n",
    "    parameters={'latlng': latlng, 'key': gkey}\n",
    "    response=requests.get(url, params=parameters)\n",
    "    data=response.json()\n",
    "    for each_component in data['results'][0]['address_components']: \n",
    "        if 'postal_code' in each_component['types']: \n",
    "            zip_code_list.append(each_component['long_name'])\n",
    "    # break"
   ]
  },
  {
   "cell_type": "code",
   "execution_count": 37,
   "id": "92d92473-38dc-4646-802b-85a5ad646ca2",
   "metadata": {},
   "outputs": [
    {
     "data": {
      "text/plain": [
       "['90003', '90232', '90044', '90044', '90018', '90033', '90008', '90037']"
      ]
     },
     "execution_count": 37,
     "metadata": {},
     "output_type": "execute_result"
    }
   ],
   "source": [
    "zip_code_list"
   ]
  },
  {
   "cell_type": "code",
   "execution_count": null,
   "id": "790593df-b9ea-435a-948c-218fdbb741da",
   "metadata": {},
   "outputs": [],
   "source": []
  }
 ],
 "metadata": {
  "kernelspec": {
   "display_name": "Python 3 (ipykernel)",
   "language": "python",
   "name": "python3"
  },
  "language_info": {
   "codemirror_mode": {
    "name": "ipython",
    "version": 3
   },
   "file_extension": ".py",
   "mimetype": "text/x-python",
   "name": "python",
   "nbconvert_exporter": "python",
   "pygments_lexer": "ipython3",
   "version": "3.7.11"
  }
 },
 "nbformat": 4,
 "nbformat_minor": 5
}
