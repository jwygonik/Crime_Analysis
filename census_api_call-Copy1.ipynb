{
 "cells": [
  {
   "cell_type": "code",
   "execution_count": 3,
   "id": "279a0036",
   "metadata": {},
   "outputs": [
    {
     "name": "stdout",
     "output_type": "stream",
     "text": [
      "Collecting gmaps\n",
      "  Downloading gmaps-0.9.0.tar.gz (1.1 MB)\n",
      "Requirement already satisfied: ipython>=5.3.0 in c:\\users\\erica\\anaconda3\\envs\\mlenv\\lib\\site-packages (from gmaps) (7.31.1)\n",
      "Requirement already satisfied: ipywidgets>=7.0.0 in c:\\users\\erica\\anaconda3\\envs\\mlenv\\lib\\site-packages (from gmaps) (7.6.5)\n",
      "Requirement already satisfied: traitlets>=4.3.0 in c:\\users\\erica\\anaconda3\\envs\\mlenv\\lib\\site-packages (from gmaps) (5.1.1)\n",
      "Collecting geojson>=2.0.0\n",
      "  Downloading geojson-2.5.0-py2.py3-none-any.whl (14 kB)\n",
      "Requirement already satisfied: six in c:\\users\\erica\\anaconda3\\envs\\mlenv\\lib\\site-packages (from gmaps) (1.16.0)\n",
      "Requirement already satisfied: decorator in c:\\users\\erica\\anaconda3\\envs\\mlenv\\lib\\site-packages (from ipython>=5.3.0->gmaps) (5.1.1)\n",
      "Requirement already satisfied: matplotlib-inline in c:\\users\\erica\\anaconda3\\envs\\mlenv\\lib\\site-packages (from ipython>=5.3.0->gmaps) (0.1.2)\n",
      "Requirement already satisfied: colorama in c:\\users\\erica\\anaconda3\\envs\\mlenv\\lib\\site-packages (from ipython>=5.3.0->gmaps) (0.4.4)\n",
      "Requirement already satisfied: setuptools>=18.5 in c:\\users\\erica\\anaconda3\\envs\\mlenv\\lib\\site-packages (from ipython>=5.3.0->gmaps) (61.2.0)\n",
      "Requirement already satisfied: backcall in c:\\users\\erica\\anaconda3\\envs\\mlenv\\lib\\site-packages (from ipython>=5.3.0->gmaps) (0.2.0)\n",
      "Requirement already satisfied: jedi>=0.16 in c:\\users\\erica\\anaconda3\\envs\\mlenv\\lib\\site-packages (from ipython>=5.3.0->gmaps) (0.18.1)\n",
      "Requirement already satisfied: pickleshare in c:\\users\\erica\\anaconda3\\envs\\mlenv\\lib\\site-packages (from ipython>=5.3.0->gmaps) (0.7.5)\n",
      "Requirement already satisfied: pygments in c:\\users\\erica\\anaconda3\\envs\\mlenv\\lib\\site-packages (from ipython>=5.3.0->gmaps) (2.11.2)\n",
      "Requirement already satisfied: prompt-toolkit!=3.0.0,!=3.0.1,<3.1.0,>=2.0.0 in c:\\users\\erica\\anaconda3\\envs\\mlenv\\lib\\site-packages (from ipython>=5.3.0->gmaps) (3.0.20)\n",
      "Requirement already satisfied: widgetsnbextension~=3.5.0 in c:\\users\\erica\\anaconda3\\envs\\mlenv\\lib\\site-packages (from ipywidgets>=7.0.0->gmaps) (3.5.2)\n",
      "Requirement already satisfied: ipykernel>=4.5.1 in c:\\users\\erica\\anaconda3\\envs\\mlenv\\lib\\site-packages (from ipywidgets>=7.0.0->gmaps) (6.9.1)\n",
      "Requirement already satisfied: jupyterlab-widgets>=1.0.0 in c:\\users\\erica\\anaconda3\\envs\\mlenv\\lib\\site-packages (from ipywidgets>=7.0.0->gmaps) (1.0.0)\n",
      "Requirement already satisfied: nbformat>=4.2.0 in c:\\users\\erica\\anaconda3\\envs\\mlenv\\lib\\site-packages (from ipywidgets>=7.0.0->gmaps) (5.3.0)\n",
      "Requirement already satisfied: ipython-genutils~=0.2.0 in c:\\users\\erica\\anaconda3\\envs\\mlenv\\lib\\site-packages (from ipywidgets>=7.0.0->gmaps) (0.2.0)\n",
      "Requirement already satisfied: nest-asyncio in c:\\users\\erica\\anaconda3\\envs\\mlenv\\lib\\site-packages (from ipykernel>=4.5.1->ipywidgets>=7.0.0->gmaps) (1.5.5)\n",
      "Requirement already satisfied: tornado<7.0,>=4.2 in c:\\users\\erica\\anaconda3\\envs\\mlenv\\lib\\site-packages (from ipykernel>=4.5.1->ipywidgets>=7.0.0->gmaps) (6.1)\n",
      "Requirement already satisfied: jupyter-client<8.0 in c:\\users\\erica\\anaconda3\\envs\\mlenv\\lib\\site-packages (from ipykernel>=4.5.1->ipywidgets>=7.0.0->gmaps) (6.1.12)\n",
      "Requirement already satisfied: debugpy<2.0,>=1.0.0 in c:\\users\\erica\\anaconda3\\envs\\mlenv\\lib\\site-packages (from ipykernel>=4.5.1->ipywidgets>=7.0.0->gmaps) (1.5.1)\n",
      "Requirement already satisfied: parso<0.9.0,>=0.8.0 in c:\\users\\erica\\anaconda3\\envs\\mlenv\\lib\\site-packages (from jedi>=0.16->ipython>=5.3.0->gmaps) (0.8.3)\n",
      "Requirement already satisfied: python-dateutil>=2.1 in c:\\users\\erica\\anaconda3\\envs\\mlenv\\lib\\site-packages (from jupyter-client<8.0->ipykernel>=4.5.1->ipywidgets>=7.0.0->gmaps) (2.8.2)\n",
      "Requirement already satisfied: jupyter-core>=4.6.0 in c:\\users\\erica\\anaconda3\\envs\\mlenv\\lib\\site-packages (from jupyter-client<8.0->ipykernel>=4.5.1->ipywidgets>=7.0.0->gmaps) (4.9.2)\n",
      "Requirement already satisfied: pyzmq>=13 in c:\\users\\erica\\anaconda3\\envs\\mlenv\\lib\\site-packages (from jupyter-client<8.0->ipykernel>=4.5.1->ipywidgets>=7.0.0->gmaps) (22.3.0)\n",
      "Requirement already satisfied: pywin32>=1.0 in c:\\users\\erica\\anaconda3\\envs\\mlenv\\lib\\site-packages (from jupyter-core>=4.6.0->jupyter-client<8.0->ipykernel>=4.5.1->ipywidgets>=7.0.0->gmaps) (302)\n",
      "Requirement already satisfied: jsonschema>=2.6 in c:\\users\\erica\\anaconda3\\envs\\mlenv\\lib\\site-packages (from nbformat>=4.2.0->ipywidgets>=7.0.0->gmaps) (4.4.0)\n",
      "Requirement already satisfied: fastjsonschema in c:\\users\\erica\\anaconda3\\envs\\mlenv\\lib\\site-packages (from nbformat>=4.2.0->ipywidgets>=7.0.0->gmaps) (2.15.1)\n",
      "Requirement already satisfied: importlib-resources>=1.4.0 in c:\\users\\erica\\anaconda3\\envs\\mlenv\\lib\\site-packages (from jsonschema>=2.6->nbformat>=4.2.0->ipywidgets>=7.0.0->gmaps) (5.2.0)\n",
      "Requirement already satisfied: typing-extensions in c:\\users\\erica\\anaconda3\\envs\\mlenv\\lib\\site-packages (from jsonschema>=2.6->nbformat>=4.2.0->ipywidgets>=7.0.0->gmaps) (4.1.1)\n",
      "Requirement already satisfied: importlib-metadata in c:\\users\\erica\\anaconda3\\envs\\mlenv\\lib\\site-packages (from jsonschema>=2.6->nbformat>=4.2.0->ipywidgets>=7.0.0->gmaps) (4.11.3)\n",
      "Requirement already satisfied: attrs>=17.4.0 in c:\\users\\erica\\anaconda3\\envs\\mlenv\\lib\\site-packages (from jsonschema>=2.6->nbformat>=4.2.0->ipywidgets>=7.0.0->gmaps) (21.4.0)\n",
      "Requirement already satisfied: pyrsistent!=0.17.0,!=0.17.1,!=0.17.2,>=0.14.0 in c:\\users\\erica\\anaconda3\\envs\\mlenv\\lib\\site-packages (from jsonschema>=2.6->nbformat>=4.2.0->ipywidgets>=7.0.0->gmaps) (0.18.0)\n",
      "Requirement already satisfied: zipp>=3.1.0 in c:\\users\\erica\\anaconda3\\envs\\mlenv\\lib\\site-packages (from importlib-resources>=1.4.0->jsonschema>=2.6->nbformat>=4.2.0->ipywidgets>=7.0.0->gmaps) (3.7.0)\n",
      "Requirement already satisfied: wcwidth in c:\\users\\erica\\anaconda3\\envs\\mlenv\\lib\\site-packages (from prompt-toolkit!=3.0.0,!=3.0.1,<3.1.0,>=2.0.0->ipython>=5.3.0->gmaps) (0.2.5)\n",
      "Requirement already satisfied: notebook>=4.4.1 in c:\\users\\erica\\anaconda3\\envs\\mlenv\\lib\\site-packages (from widgetsnbextension~=3.5.0->ipywidgets>=7.0.0->gmaps) (6.4.8)\n",
      "Requirement already satisfied: argon2-cffi in c:\\users\\erica\\anaconda3\\envs\\mlenv\\lib\\site-packages (from notebook>=4.4.1->widgetsnbextension~=3.5.0->ipywidgets>=7.0.0->gmaps) (21.3.0)\n",
      "Requirement already satisfied: terminado>=0.8.3 in c:\\users\\erica\\anaconda3\\envs\\mlenv\\lib\\site-packages (from notebook>=4.4.1->widgetsnbextension~=3.5.0->ipywidgets>=7.0.0->gmaps) (0.13.1)\n",
      "Requirement already satisfied: jinja2 in c:\\users\\erica\\anaconda3\\envs\\mlenv\\lib\\site-packages (from notebook>=4.4.1->widgetsnbextension~=3.5.0->ipywidgets>=7.0.0->gmaps) (2.11.3)\n",
      "Requirement already satisfied: nbconvert in c:\\users\\erica\\anaconda3\\envs\\mlenv\\lib\\site-packages (from notebook>=4.4.1->widgetsnbextension~=3.5.0->ipywidgets>=7.0.0->gmaps) (6.4.4)\n",
      "Requirement already satisfied: Send2Trash>=1.8.0 in c:\\users\\erica\\anaconda3\\envs\\mlenv\\lib\\site-packages (from notebook>=4.4.1->widgetsnbextension~=3.5.0->ipywidgets>=7.0.0->gmaps) (1.8.0)\n",
      "Requirement already satisfied: prometheus-client in c:\\users\\erica\\anaconda3\\envs\\mlenv\\lib\\site-packages (from notebook>=4.4.1->widgetsnbextension~=3.5.0->ipywidgets>=7.0.0->gmaps) (0.13.1)\n",
      "Requirement already satisfied: pywinpty>=1.1.0 in c:\\users\\erica\\anaconda3\\envs\\mlenv\\lib\\site-packages (from terminado>=0.8.3->notebook>=4.4.1->widgetsnbextension~=3.5.0->ipywidgets>=7.0.0->gmaps) (1.1.6)\n",
      "Requirement already satisfied: argon2-cffi-bindings in c:\\users\\erica\\anaconda3\\envs\\mlenv\\lib\\site-packages (from argon2-cffi->notebook>=4.4.1->widgetsnbextension~=3.5.0->ipywidgets>=7.0.0->gmaps) (21.2.0)\n",
      "Requirement already satisfied: cffi>=1.0.1 in c:\\users\\erica\\anaconda3\\envs\\mlenv\\lib\\site-packages (from argon2-cffi-bindings->argon2-cffi->notebook>=4.4.1->widgetsnbextension~=3.5.0->ipywidgets>=7.0.0->gmaps) (1.15.0)\n",
      "Requirement already satisfied: pycparser in c:\\users\\erica\\anaconda3\\envs\\mlenv\\lib\\site-packages (from cffi>=1.0.1->argon2-cffi-bindings->argon2-cffi->notebook>=4.4.1->widgetsnbextension~=3.5.0->ipywidgets>=7.0.0->gmaps) (2.21)\n",
      "Requirement already satisfied: MarkupSafe>=0.23 in c:\\users\\erica\\anaconda3\\envs\\mlenv\\lib\\site-packages (from jinja2->notebook>=4.4.1->widgetsnbextension~=3.5.0->ipywidgets>=7.0.0->gmaps) (2.0.1)\n",
      "Requirement already satisfied: testpath in c:\\users\\erica\\anaconda3\\envs\\mlenv\\lib\\site-packages (from nbconvert->notebook>=4.4.1->widgetsnbextension~=3.5.0->ipywidgets>=7.0.0->gmaps) (0.5.0)\n",
      "Requirement already satisfied: bleach in c:\\users\\erica\\anaconda3\\envs\\mlenv\\lib\\site-packages (from nbconvert->notebook>=4.4.1->widgetsnbextension~=3.5.0->ipywidgets>=7.0.0->gmaps) (4.1.0)\n",
      "Requirement already satisfied: defusedxml in c:\\users\\erica\\anaconda3\\envs\\mlenv\\lib\\site-packages (from nbconvert->notebook>=4.4.1->widgetsnbextension~=3.5.0->ipywidgets>=7.0.0->gmaps) (0.7.1)\n",
      "Requirement already satisfied: pandocfilters>=1.4.1 in c:\\users\\erica\\anaconda3\\envs\\mlenv\\lib\\site-packages (from nbconvert->notebook>=4.4.1->widgetsnbextension~=3.5.0->ipywidgets>=7.0.0->gmaps) (1.5.0)\n",
      "Requirement already satisfied: entrypoints>=0.2.2 in c:\\users\\erica\\anaconda3\\envs\\mlenv\\lib\\site-packages (from nbconvert->notebook>=4.4.1->widgetsnbextension~=3.5.0->ipywidgets>=7.0.0->gmaps) (0.4)\n",
      "Requirement already satisfied: jupyterlab-pygments in c:\\users\\erica\\anaconda3\\envs\\mlenv\\lib\\site-packages (from nbconvert->notebook>=4.4.1->widgetsnbextension~=3.5.0->ipywidgets>=7.0.0->gmaps) (0.1.2)\n",
      "Requirement already satisfied: beautifulsoup4 in c:\\users\\erica\\anaconda3\\envs\\mlenv\\lib\\site-packages (from nbconvert->notebook>=4.4.1->widgetsnbextension~=3.5.0->ipywidgets>=7.0.0->gmaps) (4.11.1)\n",
      "Requirement already satisfied: mistune<2,>=0.8.1 in c:\\users\\erica\\anaconda3\\envs\\mlenv\\lib\\site-packages (from nbconvert->notebook>=4.4.1->widgetsnbextension~=3.5.0->ipywidgets>=7.0.0->gmaps) (0.8.4)\n",
      "Requirement already satisfied: nbclient<0.6.0,>=0.5.0 in c:\\users\\erica\\anaconda3\\envs\\mlenv\\lib\\site-packages (from nbconvert->notebook>=4.4.1->widgetsnbextension~=3.5.0->ipywidgets>=7.0.0->gmaps) (0.5.13)\n",
      "Requirement already satisfied: soupsieve>1.2 in c:\\users\\erica\\anaconda3\\envs\\mlenv\\lib\\site-packages (from beautifulsoup4->nbconvert->notebook>=4.4.1->widgetsnbextension~=3.5.0->ipywidgets>=7.0.0->gmaps) (2.3.1)\n",
      "Requirement already satisfied: packaging in c:\\users\\erica\\anaconda3\\envs\\mlenv\\lib\\site-packages (from bleach->nbconvert->notebook>=4.4.1->widgetsnbextension~=3.5.0->ipywidgets>=7.0.0->gmaps) (21.3)\n",
      "Requirement already satisfied: webencodings in c:\\users\\erica\\anaconda3\\envs\\mlenv\\lib\\site-packages (from bleach->nbconvert->notebook>=4.4.1->widgetsnbextension~=3.5.0->ipywidgets>=7.0.0->gmaps) (0.5.1)\n",
      "Requirement already satisfied: pyparsing!=3.0.5,>=2.0.2 in c:\\users\\erica\\anaconda3\\envs\\mlenv\\lib\\site-packages (from packaging->bleach->nbconvert->notebook>=4.4.1->widgetsnbextension~=3.5.0->ipywidgets>=7.0.0->gmaps) (3.0.4)\n",
      "Building wheels for collected packages: gmaps\n",
      "  Building wheel for gmaps (setup.py): started\n",
      "  Building wheel for gmaps (setup.py): finished with status 'done'\n",
      "  Created wheel for gmaps: filename=gmaps-0.9.0-py2.py3-none-any.whl size=2076111 sha256=7d12f449516f5a2973382171ba53de719383d3b134575afeebd4f73c1614a47c\n",
      "  Stored in directory: c:\\users\\erica\\appdata\\local\\pip\\cache\\wheels\\3d\\1c\\cb\\c46f4199210e632b28d78d05a00bfdccbf6dfcd3f5b051d6bf\n",
      "Successfully built gmaps\n",
      "Installing collected packages: geojson, gmaps\n",
      "Successfully installed geojson-2.5.0 gmaps-0.9.0\n",
      "Note: you may need to restart the kernel to use updated packages.\n"
     ]
    }
   ],
   "source": [
    "pip install gmaps"
   ]
  },
  {
   "cell_type": "code",
   "execution_count": 1,
   "id": "12999570",
   "metadata": {},
   "outputs": [],
   "source": [
    "# Import Dependencies\n",
    "# from census import Census\n",
    "from config import census_api\n",
    "import pandas as pd\n",
    "import requests\n",
    "import json\n",
    "import os\n",
    "import gmaps\n",
    "import csv"
   ]
  },
  {
   "cell_type": "code",
   "execution_count": 2,
   "id": "af39f457",
   "metadata": {},
   "outputs": [
    {
     "data": {
      "text/html": [
       "<div>\n",
       "<style scoped>\n",
       "    .dataframe tbody tr th:only-of-type {\n",
       "        vertical-align: middle;\n",
       "    }\n",
       "\n",
       "    .dataframe tbody tr th {\n",
       "        vertical-align: top;\n",
       "    }\n",
       "\n",
       "    .dataframe thead th {\n",
       "        text-align: right;\n",
       "    }\n",
       "</style>\n",
       "<table border=\"1\" class=\"dataframe\">\n",
       "  <thead>\n",
       "    <tr style=\"text-align: right;\">\n",
       "      <th></th>\n",
       "      <th>B01003_001E</th>\n",
       "      <th>B02001_002E</th>\n",
       "      <th>B02001_003E</th>\n",
       "      <th>B02001_005E</th>\n",
       "      <th>B03001_003E</th>\n",
       "      <th>B02001_004E</th>\n",
       "      <th>B03002_003E</th>\n",
       "      <th>B03002_004E</th>\n",
       "      <th>B03002_005E</th>\n",
       "      <th>B03002_006E</th>\n",
       "      <th>...</th>\n",
       "      <th>B19123_001E</th>\n",
       "      <th>B99051_002E</th>\n",
       "      <th>B99051_005E</th>\n",
       "      <th>B16010_002E</th>\n",
       "      <th>B16010_015E</th>\n",
       "      <th>B16010_028E</th>\n",
       "      <th>B16010_041E</th>\n",
       "      <th>NAME</th>\n",
       "      <th>state</th>\n",
       "      <th>place</th>\n",
       "    </tr>\n",
       "  </thead>\n",
       "  <tbody>\n",
       "    <tr>\n",
       "      <th>1</th>\n",
       "      <td>3973278</td>\n",
       "      <td>1944144</td>\n",
       "      <td>348701</td>\n",
       "      <td>468006</td>\n",
       "      <td>1909808</td>\n",
       "      <td>28732</td>\n",
       "      <td>1132606</td>\n",
       "      <td>334969</td>\n",
       "      <td>6037</td>\n",
       "      <td>460730</td>\n",
       "      <td>...</td>\n",
       "      <td>830131</td>\n",
       "      <td>2529680</td>\n",
       "      <td>1443598</td>\n",
       "      <td>601860</td>\n",
       "      <td>520611</td>\n",
       "      <td>658963</td>\n",
       "      <td>986144</td>\n",
       "      <td>Los Angeles city, California</td>\n",
       "      <td>06</td>\n",
       "      <td>44000</td>\n",
       "    </tr>\n",
       "  </tbody>\n",
       "</table>\n",
       "<p>1 rows × 42 columns</p>\n",
       "</div>"
      ],
      "text/plain": [
       "0 B01003_001E B02001_002E B02001_003E B02001_005E B03001_003E B02001_004E  \\\n",
       "1     3973278     1944144      348701      468006     1909808       28732   \n",
       "\n",
       "0 B03002_003E B03002_004E B03002_005E B03002_006E  ... B19123_001E  \\\n",
       "1     1132606      334969        6037      460730  ...      830131   \n",
       "\n",
       "0 B99051_002E B99051_005E B16010_002E B16010_015E B16010_028E B16010_041E  \\\n",
       "1     2529680     1443598      601860      520611      658963      986144   \n",
       "\n",
       "0                          NAME state  place  \n",
       "1  Los Angeles city, California    06  44000  \n",
       "\n",
       "[1 rows x 42 columns]"
      ]
     },
     "execution_count": 2,
     "metadata": {},
     "output_type": "execute_result"
    }
   ],
   "source": [
    "# url for US Census data api call with codes for desired data fields\n",
    "# LA city code 44000\n",
    "variables = (\"B01003_001E,B02001_002E,B02001_003E,B02001_005E,B03001_003E,B02001_004E,B03002_003E,B03002_004E,B03002_005E,B03002_006E,B03002_007E,B03002_008E,B03002_009E,B03002_013E,B03002_014E,B03002_015E,B03002_016E,B03002_017E,B03002_018E,B03002_019E,B01002_001E,B01001_026E,B19326_001E,B17001_002E,B27011_003E,B25105_001E,B08008_003E,B25033_008E,B25008_002E,B25008_001E,B25001_001E,B09002_001E,B19123_001E,B99051_002E,B99051_005E,B16010_002E,B16010_015E,B16010_028E,B16010_041E\")\n",
    "# zips = (f\"90003,90066,90062,90033,91401,90014,91324,90011,90019,90061,90028,90731,91331,90065,90017,91335,91304,91601,91345,90025,90006\")\n",
    "url = (f\"https://api.census.gov/data/2020/acs/acs5?get={variables},NAME&for=place:44000&in=state:06&key={census_api}\")\n",
    "       \n",
    "       #county:037&in=state:06+place:{zips}&key={census_api}\")\n",
    "        # &for=county:037&in=state:06+place:44000\n",
    "        # &for=state:06&in=place:44000&\n",
    "        \n",
    "# Make api call and get json object of returned data \n",
    "response = requests.get(url)\n",
    "response_json = response.json()\n",
    "\n",
    "#Convert json object and make first row column names\n",
    "census_df = pd.DataFrame(response_json)\n",
    "\n",
    "census_df.columns = census_df.iloc[0]\n",
    "census_df = census_df[1:]\n",
    "\n",
    "census_df.head()"
   ]
  },
  {
   "cell_type": "code",
   "execution_count": 3,
   "id": "63c95268",
   "metadata": {},
   "outputs": [
    {
     "data": {
      "text/html": [
       "<div>\n",
       "<style scoped>\n",
       "    .dataframe tbody tr th:only-of-type {\n",
       "        vertical-align: middle;\n",
       "    }\n",
       "\n",
       "    .dataframe tbody tr th {\n",
       "        vertical-align: top;\n",
       "    }\n",
       "\n",
       "    .dataframe thead th {\n",
       "        text-align: right;\n",
       "    }\n",
       "</style>\n",
       "<table border=\"1\" class=\"dataframe\">\n",
       "  <thead>\n",
       "    <tr style=\"text-align: right;\">\n",
       "      <th></th>\n",
       "      <th>total_pop</th>\n",
       "      <th>pop_white</th>\n",
       "      <th>pop_black</th>\n",
       "      <th>pop_asian</th>\n",
       "      <th>pop_hispanic</th>\n",
       "      <th>pop_native_amer</th>\n",
       "      <th>pop_not_hisp_white</th>\n",
       "      <th>pop_not_hisp_black</th>\n",
       "      <th>pop_not_hisp_na</th>\n",
       "      <th>pop_not_hisp_asian</th>\n",
       "      <th>...</th>\n",
       "      <th>total_families</th>\n",
       "      <th>pop_native_born</th>\n",
       "      <th>pop_foreign_born</th>\n",
       "      <th>pop_educ_lt_hs</th>\n",
       "      <th>pop_educ_hs</th>\n",
       "      <th>pop_educ_some_col</th>\n",
       "      <th>pop_educ_mt_ba</th>\n",
       "      <th>NAME</th>\n",
       "      <th>state</th>\n",
       "      <th>place</th>\n",
       "    </tr>\n",
       "  </thead>\n",
       "  <tbody>\n",
       "    <tr>\n",
       "      <th>1</th>\n",
       "      <td>3973278</td>\n",
       "      <td>1944144</td>\n",
       "      <td>348701</td>\n",
       "      <td>468006</td>\n",
       "      <td>1909808</td>\n",
       "      <td>28732</td>\n",
       "      <td>1132606</td>\n",
       "      <td>334969</td>\n",
       "      <td>6037</td>\n",
       "      <td>460730</td>\n",
       "      <td>...</td>\n",
       "      <td>830131</td>\n",
       "      <td>2529680</td>\n",
       "      <td>1443598</td>\n",
       "      <td>601860</td>\n",
       "      <td>520611</td>\n",
       "      <td>658963</td>\n",
       "      <td>986144</td>\n",
       "      <td>Los Angeles city, California</td>\n",
       "      <td>06</td>\n",
       "      <td>44000</td>\n",
       "    </tr>\n",
       "  </tbody>\n",
       "</table>\n",
       "<p>1 rows × 42 columns</p>\n",
       "</div>"
      ],
      "text/plain": [
       "0 total_pop pop_white pop_black pop_asian pop_hispanic pop_native_amer  \\\n",
       "1   3973278   1944144    348701    468006      1909808           28732   \n",
       "\n",
       "0 pop_not_hisp_white pop_not_hisp_black pop_not_hisp_na pop_not_hisp_asian  \\\n",
       "1            1132606             334969            6037             460730   \n",
       "\n",
       "0  ... total_families pop_native_born pop_foreign_born pop_educ_lt_hs  \\\n",
       "1  ...         830131         2529680          1443598         601860   \n",
       "\n",
       "0 pop_educ_hs pop_educ_some_col pop_educ_mt_ba                          NAME  \\\n",
       "1      520611            658963         986144  Los Angeles city, California   \n",
       "\n",
       "0 state  place  \n",
       "1    06  44000  \n",
       "\n",
       "[1 rows x 42 columns]"
      ]
     },
     "execution_count": 3,
     "metadata": {},
     "output_type": "execute_result"
    }
   ],
   "source": [
    "census_df = census_df.rename(columns={'B01003_001E':'total_pop','B02001_002E':'pop_white','B02001_003E':'pop_black','B02001_005E':'pop_asian','B03001_003E':'pop_hispanic','B02001_004E':'pop_native_amer','B03002_003E':'pop_not_hisp_white','B03002_004E':'pop_not_hisp_black','B03002_005E':'pop_not_hisp_na','B03002_006E':'pop_not_hisp_asian','B03002_007E':'pop_not_hisp_nh_pi','B03002_008E':'pop_not_hisp_other','B03002_009E':'pop_not_hisp_two_more','B03002_013E':'pop_hisp_white','B03002_014E':'B03002_014','B03002_015E':'pop_hisp_na','B03002_016E':'pop_hisp_asian','B03002_017E':'pop_hisp_nh_pi','B03002_018E':'pop_hisp_other','B03002_019E':'pop_hisp_two_more','B01002_001E':'med_age','B01001_026E':'pop_female','B19326_001E':'med_income','B17001_002E':'pop_below_poverty','B27011_003E':'pop_employed','B25105_001E':'month_housing_costs','B08008_003E':'pop_work_out_res_area','B25033_008E':'pop_rented','B25008_002E':'pop_owned','B25008_001E':'pop_occupied','B25001_001E':'total_hu','B09002_001E':'pop_under_18','B19123_001E':'total_families','B99051_002E':'pop_native_born','B99051_005E':'pop_foreign_born','B16010_002E':'pop_educ_lt_hs','B16010_015E':'pop_educ_hs','B16010_028E':'pop_educ_some_col','B16010_041E':'pop_educ_mt_ba'})\n",
    "census_df"
   ]
  },
  {
   "cell_type": "code",
   "execution_count": null,
   "id": "b2bc30b0",
   "metadata": {},
   "outputs": [],
   "source": []
  },
  {
   "cell_type": "code",
   "execution_count": 18,
   "id": "8c025541",
   "metadata": {},
   "outputs": [
    {
     "data": {
      "text/plain": [
       "array(['1686'], dtype=object)"
      ]
     },
     "execution_count": 18,
     "metadata": {},
     "output_type": "execute_result"
    }
   ],
   "source": [
    "census_df['month_housing_costs'].unique()"
   ]
  },
  {
   "cell_type": "code",
   "execution_count": 19,
   "id": "538baf5f",
   "metadata": {},
   "outputs": [
    {
     "data": {
      "text/plain": [
       "array(['35.9'], dtype=object)"
      ]
     },
     "execution_count": 19,
     "metadata": {},
     "output_type": "execute_result"
    }
   ],
   "source": [
    "census_df['med_age'].unique()"
   ]
  },
  {
   "cell_type": "code",
   "execution_count": 20,
   "id": "c13cd232",
   "metadata": {},
   "outputs": [],
   "source": [
    "census_df.to_csv('census_data_2020.csv', index = False)"
   ]
  },
  {
   "cell_type": "code",
   "execution_count": null,
   "id": "5befdc96",
   "metadata": {},
   "outputs": [],
   "source": []
  }
 ],
 "metadata": {
  "kernelspec": {
   "display_name": "mlenv",
   "language": "python",
   "name": "mlenv"
  },
  "language_info": {
   "codemirror_mode": {
    "name": "ipython",
    "version": 3
   },
   "file_extension": ".py",
   "mimetype": "text/x-python",
   "name": "python",
   "nbconvert_exporter": "python",
   "pygments_lexer": "ipython3",
   "version": "3.7.13"
  }
 },
 "nbformat": 4,
 "nbformat_minor": 5
}
