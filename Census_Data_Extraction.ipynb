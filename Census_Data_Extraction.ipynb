{
 "cells": [
  {
   "cell_type": "code",
   "execution_count": 41,
   "id": "332883a9",
   "metadata": {
    "id": "332883a9"
   },
   "outputs": [],
   "source": [
    "# Import Dependencies\n",
    "# from census import Census\n",
    "from config import census_api\n",
    "import pandas as pd\n",
    "import requests\n",
    "import json\n",
    "import os\n",
    "import gmaps\n",
    "import csv"
   ]
  },
  {
   "cell_type": "code",
   "execution_count": 42,
   "id": "ec4b8825",
   "metadata": {
    "colab": {
     "base_uri": "https://localhost:8080/",
     "height": 226
    },
    "id": "ec4b8825",
    "outputId": "776f9d15-c411-444a-ad67-df1c617a5771",
    "scrolled": true
   },
   "outputs": [
    {
     "data": {
      "text/html": [
       "<div>\n",
       "<style scoped>\n",
       "    .dataframe tbody tr th:only-of-type {\n",
       "        vertical-align: middle;\n",
       "    }\n",
       "\n",
       "    .dataframe tbody tr th {\n",
       "        vertical-align: top;\n",
       "    }\n",
       "\n",
       "    .dataframe thead th {\n",
       "        text-align: right;\n",
       "    }\n",
       "</style>\n",
       "<table border=\"1\" class=\"dataframe\">\n",
       "  <thead>\n",
       "    <tr style=\"text-align: right;\">\n",
       "      <th></th>\n",
       "      <th>B01003_001E</th>\n",
       "      <th>B02001_002E</th>\n",
       "      <th>B02001_003E</th>\n",
       "      <th>B02001_005E</th>\n",
       "      <th>B03001_003E</th>\n",
       "      <th>B02001_004E</th>\n",
       "      <th>B03002_003E</th>\n",
       "      <th>B03002_004E</th>\n",
       "      <th>B03002_005E</th>\n",
       "      <th>B03002_006E</th>\n",
       "      <th>...</th>\n",
       "      <th>B19123_001E</th>\n",
       "      <th>B99051_002E</th>\n",
       "      <th>B99051_005E</th>\n",
       "      <th>B16010_002E</th>\n",
       "      <th>B16010_015E</th>\n",
       "      <th>B16010_028E</th>\n",
       "      <th>B16010_041E</th>\n",
       "      <th>NAME</th>\n",
       "      <th>state</th>\n",
       "      <th>place</th>\n",
       "    </tr>\n",
       "  </thead>\n",
       "  <tbody>\n",
       "    <tr>\n",
       "      <th>1</th>\n",
       "      <td>3973278</td>\n",
       "      <td>1944144</td>\n",
       "      <td>348701</td>\n",
       "      <td>468006</td>\n",
       "      <td>1909808</td>\n",
       "      <td>28732</td>\n",
       "      <td>1132606</td>\n",
       "      <td>334969</td>\n",
       "      <td>6037</td>\n",
       "      <td>460730</td>\n",
       "      <td>...</td>\n",
       "      <td>830131</td>\n",
       "      <td>2529680</td>\n",
       "      <td>1443598</td>\n",
       "      <td>601860</td>\n",
       "      <td>520611</td>\n",
       "      <td>658963</td>\n",
       "      <td>986144</td>\n",
       "      <td>Los Angeles city, California</td>\n",
       "      <td>06</td>\n",
       "      <td>44000</td>\n",
       "    </tr>\n",
       "  </tbody>\n",
       "</table>\n",
       "<p>1 rows × 43 columns</p>\n",
       "</div>"
      ],
      "text/plain": [
       "0 B01003_001E B02001_002E B02001_003E B02001_005E B03001_003E B02001_004E  \\\n",
       "1     3973278     1944144      348701      468006     1909808       28732   \n",
       "\n",
       "0 B03002_003E B03002_004E B03002_005E B03002_006E  ... B19123_001E  \\\n",
       "1     1132606      334969        6037      460730  ...      830131   \n",
       "\n",
       "0 B99051_002E B99051_005E B16010_002E B16010_015E B16010_028E B16010_041E  \\\n",
       "1     2529680     1443598      601860      520611      658963      986144   \n",
       "\n",
       "0                          NAME state  place  \n",
       "1  Los Angeles city, California    06  44000  \n",
       "\n",
       "[1 rows x 43 columns]"
      ]
     },
     "execution_count": 42,
     "metadata": {},
     "output_type": "execute_result"
    }
   ],
   "source": [
    "# url for US Census data api call with codes for desired data fields\n",
    "\n",
    "variables = (\"B01003_001E,B02001_002E,B02001_003E,B02001_005E,B03001_003E,B02001_004E,B03002_003E,B03002_004E,B03002_005E,B03002_006E,B03002_007E,B03002_008E,B03002_009E,B03002_013E,B03002_014E,B03002_015E,B03002_016E,B03002_017E,B03002_018E,B03002_019E,B01002_001E,B01001_002E,B01001_026E,B19326_001E,B17001_002E,B27011_003E,B25105_001E,B08008_003E,B25033_008E,B25008_002E,B25008_001E,B25001_001E,B09002_001E,B19123_001E,B99051_002E,B99051_005E,B16010_002E,B16010_015E,B16010_028E,B16010_041E\")\n",
    "\n",
    "url = (f\"https://api.census.gov/data/2020/acs/acs5?get={variables},NAME&for=place:44000&in=state:06&key={census_api}\")\n",
    "\n",
    "# Make api call and get json object of returned data \n",
    "response = requests.get(url)\n",
    "response_json = response.json()\n",
    "\n",
    "#Convert json object and make first row column names\n",
    "census_df = pd.DataFrame(response_json)\n",
    "\n",
    "census_df.columns = census_df.iloc[0]\n",
    "census_df = census_df[1:]\n",
    "\n",
    "census_df.head()"
   ]
  },
  {
   "cell_type": "code",
   "execution_count": 43,
   "id": "89b721a7",
   "metadata": {
    "colab": {
     "base_uri": "https://localhost:8080/",
     "height": 261
    },
    "id": "89b721a7",
    "outputId": "27394f94-b4fc-4f0b-dc28-8d8f72219e63",
    "scrolled": true
   },
   "outputs": [
    {
     "data": {
      "text/html": [
       "<div>\n",
       "<style scoped>\n",
       "    .dataframe tbody tr th:only-of-type {\n",
       "        vertical-align: middle;\n",
       "    }\n",
       "\n",
       "    .dataframe tbody tr th {\n",
       "        vertical-align: top;\n",
       "    }\n",
       "\n",
       "    .dataframe thead th {\n",
       "        text-align: right;\n",
       "    }\n",
       "</style>\n",
       "<table border=\"1\" class=\"dataframe\">\n",
       "  <thead>\n",
       "    <tr style=\"text-align: right;\">\n",
       "      <th></th>\n",
       "      <th>total_pop</th>\n",
       "      <th>pop_white</th>\n",
       "      <th>pop_black</th>\n",
       "      <th>pop_asian</th>\n",
       "      <th>pop_hispanic</th>\n",
       "      <th>pop_native_amer</th>\n",
       "      <th>pop_not_hisp_white</th>\n",
       "      <th>pop_not_hisp_black</th>\n",
       "      <th>pop_not_hisp_na</th>\n",
       "      <th>pop_not_hisp_asian</th>\n",
       "      <th>...</th>\n",
       "      <th>total_families</th>\n",
       "      <th>pop_native_born</th>\n",
       "      <th>pop_foreign_born</th>\n",
       "      <th>pop_educ_lt_hs</th>\n",
       "      <th>pop_educ_hs</th>\n",
       "      <th>pop_educ_some_col</th>\n",
       "      <th>pop_educ_mt_ba</th>\n",
       "      <th>NAME</th>\n",
       "      <th>state</th>\n",
       "      <th>place</th>\n",
       "    </tr>\n",
       "  </thead>\n",
       "  <tbody>\n",
       "    <tr>\n",
       "      <th>1</th>\n",
       "      <td>3973278</td>\n",
       "      <td>1944144</td>\n",
       "      <td>348701</td>\n",
       "      <td>468006</td>\n",
       "      <td>1909808</td>\n",
       "      <td>28732</td>\n",
       "      <td>1132606</td>\n",
       "      <td>334969</td>\n",
       "      <td>6037</td>\n",
       "      <td>460730</td>\n",
       "      <td>...</td>\n",
       "      <td>830131</td>\n",
       "      <td>2529680</td>\n",
       "      <td>1443598</td>\n",
       "      <td>601860</td>\n",
       "      <td>520611</td>\n",
       "      <td>658963</td>\n",
       "      <td>986144</td>\n",
       "      <td>Los Angeles city, California</td>\n",
       "      <td>06</td>\n",
       "      <td>44000</td>\n",
       "    </tr>\n",
       "  </tbody>\n",
       "</table>\n",
       "<p>1 rows × 43 columns</p>\n",
       "</div>"
      ],
      "text/plain": [
       "0 total_pop pop_white pop_black pop_asian pop_hispanic pop_native_amer  \\\n",
       "1   3973278   1944144    348701    468006      1909808           28732   \n",
       "\n",
       "0 pop_not_hisp_white pop_not_hisp_black pop_not_hisp_na pop_not_hisp_asian  \\\n",
       "1            1132606             334969            6037             460730   \n",
       "\n",
       "0  ... total_families pop_native_born pop_foreign_born pop_educ_lt_hs  \\\n",
       "1  ...         830131         2529680          1443598         601860   \n",
       "\n",
       "0 pop_educ_hs pop_educ_some_col pop_educ_mt_ba                          NAME  \\\n",
       "1      520611            658963         986144  Los Angeles city, California   \n",
       "\n",
       "0 state  place  \n",
       "1    06  44000  \n",
       "\n",
       "[1 rows x 43 columns]"
      ]
     },
     "execution_count": 43,
     "metadata": {},
     "output_type": "execute_result"
    }
   ],
   "source": [
    "# Re_labeled the columns.\n",
    "census_df = census_df.rename({'B01003_001E':'total_pop','B02001_002E':'pop_white','B02001_003E':'pop_black','B02001_005E':'pop_asian','B03001_003E':'pop_hispanic','B02001_004E':'pop_native_amer','B03002_003E':'pop_not_hisp_white','B03002_004E':'pop_not_hisp_black','B03002_005E':'pop_not_hisp_na','B03002_006E':'pop_not_hisp_asian','B03002_007E':'pop_not_hisp_nh_pi','B03002_008E':'pop_not_hisp_other','B03002_009E':'pop_not_hisp_two_more','B03002_013E':'pop_hisp_white','B03002_014E':'B03002_014','B03002_015E':'pop_hisp_na','B03002_016E':'pop_hisp_asian','B03002_017E':'pop_hisp_nh_pi','B03002_018E':'pop_hisp_other','B03002_019E':'pop_hisp_two_more','B01002_001E':'med_age','B01001_002E':'pop_male','B01001_026E':'pop_female','B19326_001E':'med_income','B17001_002E':'pop_below_poverty','B27011_003E':'pop_employed','B25105_001E':'month_housing_costs','B08008_003E':'pop_work_out_res_area','B25033_008E':'pop_rented','B25008_002E':'pop_owned','B25008_001E':'pop_occupied','B25001_001E':'total_hu','B09002_001E':'pop_under_18','B19123_001E':'total_families','B99051_002E':'pop_native_born','B99051_005E':'pop_foreign_born','B16010_002E':'pop_educ_lt_hs','B16010_015E':'pop_educ_hs','B16010_028E':'pop_educ_some_col','B16010_041E':'pop_educ_mt_ba'\n",
    "}, axis=1) \n",
    "census_df"
   ]
  },
  {
   "cell_type": "code",
   "execution_count": 44,
   "id": "u6eBLBTVdjaO",
   "metadata": {
    "colab": {
     "base_uri": "https://localhost:8080/"
    },
    "id": "u6eBLBTVdjaO",
    "outputId": "a798a5f3-80be-47d7-c65a-f969727ecd25"
   },
   "outputs": [
    {
     "data": {
      "text/plain": [
       "Index(['total_pop', 'pop_white', 'pop_black', 'pop_asian', 'pop_hispanic',\n",
       "       'pop_native_amer', 'pop_not_hisp_white', 'pop_not_hisp_black',\n",
       "       'pop_not_hisp_na', 'pop_not_hisp_asian', 'pop_not_hisp_nh_pi',\n",
       "       'pop_not_hisp_other', 'pop_not_hisp_two_more', 'pop_hisp_white',\n",
       "       'B03002_014', 'pop_hisp_na', 'pop_hisp_asian', 'pop_hisp_nh_pi',\n",
       "       'pop_hisp_other', 'pop_hisp_two_more', 'med_age', 'pop_male',\n",
       "       'pop_female', 'med_income', 'pop_below_poverty', 'pop_employed',\n",
       "       'month_housing_costs', 'pop_work_out_res_area', 'pop_rented',\n",
       "       'pop_owned', 'pop_occupied', 'total_hu', 'pop_under_18',\n",
       "       'total_families', 'pop_native_born', 'pop_foreign_born',\n",
       "       'pop_educ_lt_hs', 'pop_educ_hs', 'pop_educ_some_col', 'pop_educ_mt_ba',\n",
       "       'NAME', 'state', 'place'],\n",
       "      dtype='object', name=0)"
      ]
     },
     "execution_count": 44,
     "metadata": {},
     "output_type": "execute_result"
    }
   ],
   "source": [
    "# Display all column_labels.\n",
    "census_df.columns"
   ]
  },
  {
   "cell_type": "code",
   "execution_count": 45,
   "id": "p-kWGlLmb9WI",
   "metadata": {
    "colab": {
     "base_uri": "https://localhost:8080/",
     "height": 296
    },
    "id": "p-kWGlLmb9WI",
    "outputId": "12d71ee3-be99-4d4d-8c98-10e713685ba6",
    "scrolled": true
   },
   "outputs": [
    {
     "data": {
      "text/html": [
       "<div>\n",
       "<style scoped>\n",
       "    .dataframe tbody tr th:only-of-type {\n",
       "        vertical-align: middle;\n",
       "    }\n",
       "\n",
       "    .dataframe tbody tr th {\n",
       "        vertical-align: top;\n",
       "    }\n",
       "\n",
       "    .dataframe thead th {\n",
       "        text-align: right;\n",
       "    }\n",
       "</style>\n",
       "<table border=\"1\" class=\"dataframe\">\n",
       "  <thead>\n",
       "    <tr style=\"text-align: right;\">\n",
       "      <th></th>\n",
       "      <th>total_pop</th>\n",
       "      <th>pop_male</th>\n",
       "      <th>pop_female</th>\n",
       "      <th>pop_white</th>\n",
       "      <th>pop_black</th>\n",
       "      <th>pop_asian</th>\n",
       "      <th>pop_hispanic</th>\n",
       "      <th>pop_native_amer</th>\n",
       "      <th>pop_not_hisp_white</th>\n",
       "      <th>pop_not_hisp_black</th>\n",
       "      <th>...</th>\n",
       "      <th>total_families</th>\n",
       "      <th>pop_native_born</th>\n",
       "      <th>pop_foreign_born</th>\n",
       "      <th>pop_educ_lt_hs</th>\n",
       "      <th>pop_educ_hs</th>\n",
       "      <th>pop_educ_some_col</th>\n",
       "      <th>pop_educ_mt_ba</th>\n",
       "      <th>NAME</th>\n",
       "      <th>state</th>\n",
       "      <th>place</th>\n",
       "    </tr>\n",
       "  </thead>\n",
       "  <tbody>\n",
       "    <tr>\n",
       "      <th>1</th>\n",
       "      <td>3973278</td>\n",
       "      <td>1966568</td>\n",
       "      <td>2006710</td>\n",
       "      <td>1944144</td>\n",
       "      <td>348701</td>\n",
       "      <td>468006</td>\n",
       "      <td>1909808</td>\n",
       "      <td>28732</td>\n",
       "      <td>1132606</td>\n",
       "      <td>334969</td>\n",
       "      <td>...</td>\n",
       "      <td>830131</td>\n",
       "      <td>2529680</td>\n",
       "      <td>1443598</td>\n",
       "      <td>601860</td>\n",
       "      <td>520611</td>\n",
       "      <td>658963</td>\n",
       "      <td>986144</td>\n",
       "      <td>Los Angeles city, California</td>\n",
       "      <td>06</td>\n",
       "      <td>44000</td>\n",
       "    </tr>\n",
       "  </tbody>\n",
       "</table>\n",
       "<p>1 rows × 43 columns</p>\n",
       "</div>"
      ],
      "text/plain": [
       "0 total_pop pop_male pop_female pop_white pop_black pop_asian pop_hispanic  \\\n",
       "1   3973278  1966568    2006710   1944144    348701    468006      1909808   \n",
       "\n",
       "0 pop_native_amer pop_not_hisp_white pop_not_hisp_black  ... total_families  \\\n",
       "1           28732            1132606             334969  ...         830131   \n",
       "\n",
       "0 pop_native_born pop_foreign_born pop_educ_lt_hs pop_educ_hs  \\\n",
       "1         2529680          1443598         601860      520611   \n",
       "\n",
       "0 pop_educ_some_col pop_educ_mt_ba                          NAME state  place  \n",
       "1            658963         986144  Los Angeles city, California    06  44000  \n",
       "\n",
       "[1 rows x 43 columns]"
      ]
     },
     "execution_count": 45,
     "metadata": {},
     "output_type": "execute_result"
    }
   ],
   "source": [
    "# Re_Order the columns. \n",
    "census_df=census_df[[\"total_pop\",\n",
    "'pop_male','pop_female','pop_white', 'pop_black', 'pop_asian', 'pop_hispanic',\n",
    "'pop_native_amer', 'pop_not_hisp_white', 'pop_not_hisp_black',\n",
    "'pop_not_hisp_na', 'pop_not_hisp_asian', 'pop_not_hisp_nh_pi',\n",
    "'pop_not_hisp_other', 'pop_not_hisp_two_more', 'pop_hisp_white',\n",
    "'B03002_014', 'pop_hisp_na', 'pop_hisp_asian', 'pop_hisp_nh_pi',\n",
    "'pop_hisp_other', 'pop_hisp_two_more', 'med_age',\n",
    "'med_income', 'pop_below_poverty', 'pop_employed',\n",
    "'month_housing_costs', 'pop_work_out_res_area', 'pop_rented',\n",
    "'pop_owned', 'pop_occupied', 'total_hu', 'pop_under_18',\n",
    "'total_families', 'pop_native_born', 'pop_foreign_born',\n",
    "'pop_educ_lt_hs', 'pop_educ_hs', 'pop_educ_some_col', 'pop_educ_mt_ba','NAME', 'state', 'place']]\n",
    "census_df"
   ]
  },
  {
   "cell_type": "code",
   "execution_count": 46,
   "id": "260951b6",
   "metadata": {
    "scrolled": true
   },
   "outputs": [
    {
     "data": {
      "text/plain": [
       "0\n",
       "total_pop                object\n",
       "pop_male                 object\n",
       "pop_female               object\n",
       "pop_white                object\n",
       "pop_black                object\n",
       "pop_asian                object\n",
       "pop_hispanic             object\n",
       "pop_native_amer          object\n",
       "pop_not_hisp_white       object\n",
       "pop_not_hisp_black       object\n",
       "pop_not_hisp_na          object\n",
       "pop_not_hisp_asian       object\n",
       "pop_not_hisp_nh_pi       object\n",
       "pop_not_hisp_other       object\n",
       "pop_not_hisp_two_more    object\n",
       "pop_hisp_white           object\n",
       "B03002_014               object\n",
       "pop_hisp_na              object\n",
       "pop_hisp_asian           object\n",
       "pop_hisp_nh_pi           object\n",
       "pop_hisp_other           object\n",
       "pop_hisp_two_more        object\n",
       "med_age                  object\n",
       "med_income               object\n",
       "pop_below_poverty        object\n",
       "pop_employed             object\n",
       "month_housing_costs      object\n",
       "pop_work_out_res_area    object\n",
       "pop_rented               object\n",
       "pop_owned                object\n",
       "pop_occupied             object\n",
       "total_hu                 object\n",
       "pop_under_18             object\n",
       "total_families           object\n",
       "pop_native_born          object\n",
       "pop_foreign_born         object\n",
       "pop_educ_lt_hs           object\n",
       "pop_educ_hs              object\n",
       "pop_educ_some_col        object\n",
       "pop_educ_mt_ba           object\n",
       "NAME                     object\n",
       "state                    object\n",
       "place                    object\n",
       "dtype: object"
      ]
     },
     "execution_count": 46,
     "metadata": {},
     "output_type": "execute_result"
    }
   ],
   "source": [
    "# Show datatypes.\n",
    "census_df.dtypes"
   ]
  },
  {
   "cell_type": "code",
   "execution_count": 47,
   "id": "0ab4535b",
   "metadata": {},
   "outputs": [],
   "source": [
    "census_df.to_csv(\"census_data_2020.csv\", index=False)"
   ]
  },
  {
   "cell_type": "code",
   "execution_count": null,
   "id": "66c3b8c6",
   "metadata": {},
   "outputs": [],
   "source": []
  }
 ],
 "metadata": {
  "colab": {
   "name": "Census_Data_Extraction.ipynb",
   "provenance": []
  },
  "kernelspec": {
   "display_name": "Python 3 (ipykernel)",
   "language": "python",
   "name": "python3"
  },
  "language_info": {
   "codemirror_mode": {
    "name": "ipython",
    "version": 3
   },
   "file_extension": ".py",
   "mimetype": "text/x-python",
   "name": "python",
   "nbconvert_exporter": "python",
   "pygments_lexer": "ipython3",
   "version": "3.9.7"
  }
 },
 "nbformat": 4,
 "nbformat_minor": 5
}
